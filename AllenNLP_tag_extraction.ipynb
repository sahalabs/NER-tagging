{
  "nbformat": 4,
  "nbformat_minor": 0,
  "metadata": {
    "colab": {
      "name": "AllenNLP_tag_extraction.ipynb",
      "version": "0.3.2",
      "provenance": [],
      "collapsed_sections": [],
      "include_colab_link": true
    },
    "kernelspec": {
      "name": "python3",
      "display_name": "Python 3"
    }
  },
  "cells": [
    {
      "cell_type": "markdown",
      "metadata": {
        "id": "view-in-github",
        "colab_type": "text"
      },
      "source": [
        "<a href=\"https://colab.research.google.com/github/sahalabs/NER-tagging/blob/master/AllenNLP_tag_extraction.ipynb\" target=\"_parent\"><img src=\"https://colab.research.google.com/assets/colab-badge.svg\" alt=\"Open In Colab\"/></a>"
      ]
    },
    {
      "cell_type": "code",
      "metadata": {
        "id": "Y7_1GJhCCrdT",
        "colab_type": "code",
        "colab": {}
      },
      "source": [
        "!git clone https://github.com/allenai/allennlp\n",
        "\n",
        "!pip install allennlp"
      ],
      "execution_count": 0,
      "outputs": []
    },
    {
      "cell_type": "code",
      "metadata": {
        "id": "gm-CtNJcfw8M",
        "colab_type": "code",
        "outputId": "b9ca3a22-4657-4e3b-84d7-738bf9854925",
        "colab": {
          "base_uri": "https://localhost:8080/",
          "height": 77
        }
      },
      "source": [
        "#Run this algorithm\n",
        "\n",
        "# -*- coding: utf-8 -*-\n",
        "\"\"\"\n",
        "Created on Wed May 22 18:48:17 2019\n",
        "\n",
        "@author: Vivek\n",
        "\"\"\"\n",
        "\n",
        "### using neuroner\n",
        "import numpy as np\n",
        "import pandas as pd\n",
        "import tensorflow as tf\n",
        "# from neuroner import neuromodel\n",
        "\n",
        "text = 'The Adivasi Academy, Tejgadh, in Chhota Udepur district (Gujarat) was established in 1999 by Bhasha Research Publication Centre, Vadodara (Bhasha), with the vision of it evolving into an institute of national significance to undertake the study, research and documentation of the Adivasi communities of India. The Academy acts as a think-tank and functions as a one-stop resource centre for the study of multifarious aspects of the kaleidoscopic worlds of Adivasi communities, ranging from history, mythology, folklore, anthropology, ethnography, demographics, art, music, culture, geography, medicine, economy and languages. The Academy is administered and managed by Adivasi community members trained through various educational and vocational activities. The Adivasi Academy houses the Vaacha museum, a research library, Lakhara art studio, Bhasha Van — an open-air museum of languages, Vasant Shala — a residential multilingual school for Adivasi children, and Prakruti health clinic. The Academy has executed several national-scale initiatives in linguistics, ethnography, Adivasi art and Adivasi music.'\n",
        "\n",
        "### using allennlp\n",
        "from allennlp.predictors.predictor import Predictor\n",
        "predictor = Predictor.from_path(\"https://s3-us-west-2.amazonaws.com/allennlp/models/ner-model-2018.12.18.tar.gz\")\n",
        "z1 = predictor.predict(sentence = text)\n",
        "# z2 = pd.DataFrame.from_dict(z2)\n",
        "\n"
      ],
      "execution_count": 17,
      "outputs": [
        {
          "output_type": "stream",
          "text": [
            "/usr/local/lib/python3.6/dist-packages/allennlp/data/token_indexers/token_characters_indexer.py:55: UserWarning: You are using the default value (0) of `min_padding_length`, which can cause some subtle bugs (more info see https://github.com/allenai/allennlp/issues/1954). Strongly recommend to set a value, usually the maximum size of the convolutional layer size when using CnnEncoder.\n",
            "  UserWarning)\n"
          ],
          "name": "stderr"
        }
      ]
    },
    {
      "cell_type": "code",
      "metadata": {
        "id": "nQfVsDC8iMAd",
        "colab_type": "code",
        "colab": {}
      },
      "source": [
        "z1 # this is a dicionary format it prints in. Read more about python dictionaries if you have no clue"
      ],
      "execution_count": 0,
      "outputs": []
    },
    {
      "cell_type": "code",
      "metadata": {
        "id": "zvV0NAq1yFGL",
        "colab_type": "code",
        "colab": {}
      },
      "source": [
        "z1['words'] #this is how we would access all the words of the dictionary"
      ],
      "execution_count": 0,
      "outputs": []
    },
    {
      "cell_type": "code",
      "metadata": {
        "id": "TAlTky1PyI-2",
        "colab_type": "code",
        "colab": {}
      },
      "source": [
        "z1['tags'] #this is how we would access all the associated tags of the dictionary"
      ],
      "execution_count": 0,
      "outputs": []
    },
    {
      "cell_type": "code",
      "metadata": {
        "id": "ONk4YY1cFQN-",
        "colab_type": "code",
        "outputId": "a667cbd7-5966-4816-b8a6-eb322932c1cb",
        "colab": {
          "base_uri": "https://localhost:8080/",
          "height": 77
        }
      },
      "source": [
        "#Fine grained and elmo combined model\n",
        "from allennlp.predictors.predictor import Predictor\n",
        "import pandas as pd\n",
        "text = \"\"\"The Adivasi Academy, Tejgadh, in Chhota Udepur district (Gujarat) was established in 1999 by Bhasha Research Publication Centre, Vadodara (Bhasha), with the vision of it evolving into an institute of national significance to undertake the study, research and documentation of the Adivasi communities of India. The Academy acts as a think-tank and functions as a one-stop resource centre for the study of multifarious aspects of the kaleidoscopic worlds of Adivasi communities, ranging from history, mythology, folklore, anthropology, ethnography, demographics, art, music, culture, geography, medicine, economy and languages. The Academy is administered and managed by Adivasi community members trained through various educational and vocational activities. The Adivasi Academy houses the Vaacha museum, a research library, Lakhara art studio, Bhasha Van — an open-air museum of languages, Vasant Shala — a residential multilingual school for Adivasi children, and Prakruti health clinic. The Academy has executed several national-scale initiatives in linguistics, ethnography, Adivasi art and Adivasi music.\"\"\"\n",
        "\n",
        "predictor = Predictor.from_path(\"https://s3-us-west-2.amazonaws.com/allennlp/models/fine-grained-ner-model-elmo-2018.12.21.tar.gz\")\n",
        "z2 = predictor.predict(sentence = text)\n",
        "\n"
      ],
      "execution_count": 9,
      "outputs": [
        {
          "output_type": "stream",
          "text": [
            "/usr/local/lib/python3.6/dist-packages/allennlp/data/token_indexers/token_characters_indexer.py:55: UserWarning: You are using the default value (0) of `min_padding_length`, which can cause some subtle bugs (more info see https://github.com/allenai/allennlp/issues/1954). Strongly recommend to set a value, usually the maximum size of the convolutional layer size when using CnnEncoder.\n",
            "  UserWarning)\n"
          ],
          "name": "stderr"
        }
      ]
    },
    {
      "cell_type": "code",
      "metadata": {
        "id": "A1oXh5O5yQLB",
        "colab_type": "code",
        "colab": {}
      },
      "source": [
        "z2 # this is a dicionary format it prints in. Read more about python dictionaries if you have no clue"
      ],
      "execution_count": 0,
      "outputs": []
    },
    {
      "cell_type": "code",
      "metadata": {
        "id": "3bNsgs08ySMs",
        "colab_type": "code",
        "colab": {}
      },
      "source": [
        "z2['words'] #this is how we would access all the words of the dictionary"
      ],
      "execution_count": 0,
      "outputs": []
    },
    {
      "cell_type": "code",
      "metadata": {
        "id": "-IDEdmnFyTyw",
        "colab_type": "code",
        "colab": {}
      },
      "source": [
        "z2['tags']  #this is how we would access all the associated tags of the dictionary"
      ],
      "execution_count": 0,
      "outputs": []
    },
    {
      "cell_type": "code",
      "metadata": {
        "id": "CX4JwTlgokIe",
        "colab_type": "code",
        "colab": {
          "base_uri": "https://localhost:8080/",
          "height": 238
        },
        "outputId": "4a71cb30-7e8b-4d38-df44-0b7fe37d3001"
      },
      "source": [
        "\"\"\"\n",
        "Have a look at the outputs of both algos. Compare and select one final algo!!!\n",
        "After which follow the below rules to create a code which would do the following. This has no relation to pandas, it is simple iteration over a dictionary.\n",
        "Think it out, shouldnt take a lot of effort\n",
        "\n",
        "Rules to extract tags:\n",
        "\n",
        "Look at the below list of tags:\n",
        "\n",
        "If the tag is an 'O' remove it. Dont give any heed to this.\n",
        "\n",
        "If the tag starts with a U , then it's an independent tag (in this case hindi maybe), extract tag without \"U-\" and associate it to the corresponding word \n",
        "(i.e. Hindi in this case, final tag would look like ('Hindi',NORP) depends on how you've created other tags for the other algos just keep it consistent).\n",
        "\n",
        "if the tag begins with a B then iterate till you find the tag beginning with L and combine the whole entity and associate to a common tag. \n",
        "(Example: B-date (Eid) , I-DATE (ul), L-DATE(fitr) should finally look like ('Eid ul fitr','DATE'), again the format is your choice depending on what you used for the previous algorithms.\n",
        "IT SHOULD BE CONSISTENT!!!!!!!\n",
        "\n",
        "\"\"\"\n"
      ],
      "execution_count": 15,
      "outputs": [
        {
          "output_type": "execute_result",
          "data": {
            "text/plain": [
              "['O',\n",
              " 'O',\n",
              " 'U-NORP',\n",
              " 'O',\n",
              " 'U-LANGUAGE',\n",
              " 'O',\n",
              " 'U-GPE',\n",
              " 'O',\n",
              " 'O',\n",
              " 'B-DATE',\n",
              " 'I-DATE',\n",
              " 'L-DATE',\n",
              " 'O']"
            ]
          },
          "metadata": {
            "tags": []
          },
          "execution_count": 15
        }
      ]
    }
  ]
}