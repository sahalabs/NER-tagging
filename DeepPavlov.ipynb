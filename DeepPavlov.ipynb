{
  "nbformat": 4,
  "nbformat_minor": 0,
  "metadata": {
    "colab": {
      "name": "DeepPavlov.ipynb",
      "version": "0.3.2",
      "provenance": [],
      "include_colab_link": true
    },
    "kernelspec": {
      "name": "python3",
      "display_name": "Python 3"
    }
  },
  "cells": [
    {
      "cell_type": "markdown",
      "metadata": {
        "id": "view-in-github",
        "colab_type": "text"
      },
      "source": [
        "<a href=\"https://colab.research.google.com/github/sahalabs/NER-tagging/blob/master/DeepPavlov.ipynb\" target=\"_parent\"><img src=\"https://colab.research.google.com/assets/colab-badge.svg\" alt=\"Open In Colab\"/></a>"
      ]
    },
    {
      "cell_type": "code",
      "metadata": {
        "id": "keKk51-833AW",
        "colab_type": "code",
        "colab": {
          "base_uri": "https://localhost:8080/",
          "height": 122
        },
        "outputId": "8c71b4d5-e153-4e2b-fdee-91a88e688d65"
      },
      "source": [
        "# Run this cell to mount your Google Drive.\n",
        "from google.colab import drive\n",
        "drive.mount('/content/drive')"
      ],
      "execution_count": 4,
      "outputs": [
        {
          "output_type": "stream",
          "text": [
            "Go to this URL in a browser: https://accounts.google.com/o/oauth2/auth?client_id=947318989803-6bn6qk8qdgf4n4g3pfee6491hc0brc4i.apps.googleusercontent.com&redirect_uri=urn%3Aietf%3Awg%3Aoauth%3A2.0%3Aoob&scope=email%20https%3A%2F%2Fwww.googleapis.com%2Fauth%2Fdocs.test%20https%3A%2F%2Fwww.googleapis.com%2Fauth%2Fdrive%20https%3A%2F%2Fwww.googleapis.com%2Fauth%2Fdrive.photos.readonly%20https%3A%2F%2Fwww.googleapis.com%2Fauth%2Fpeopleapi.readonly&response_type=code\n",
            "\n",
            "Enter your authorization code:\n",
            "··········\n",
            "Mounted at /content/drive\n"
          ],
          "name": "stdout"
        }
      ]
    },
    {
      "cell_type": "code",
      "metadata": {
        "id": "3ullFvjHvb7h",
        "colab_type": "code",
        "colab": {}
      },
      "source": [
        "import pandas as pd\n",
        "file= pd.read_csv('1_final.csv')"
      ],
      "execution_count": 0,
      "outputs": []
    },
    {
      "cell_type": "code",
      "metadata": {
        "id": "RkqN4fRgxW46",
        "colab_type": "code",
        "colab": {}
      },
      "source": [
        "file"
      ],
      "execution_count": 0,
      "outputs": []
    },
    {
      "cell_type": "code",
      "metadata": {
        "id": "4g0KV4DXvjeI",
        "colab_type": "code",
        "colab": {}
      },
      "source": [
        "!pip3 install deeppavlov ##Dependencies for deeppavlov\n",
        "!python3 -m deeppavlov install ner_ontonotes"
      ],
      "execution_count": 0,
      "outputs": []
    },
    {
      "cell_type": "code",
      "metadata": {
        "id": "WT-t1neQvrkR",
        "colab_type": "code",
        "colab": {}
      },
      "source": [
        "##Implementing DeepPavlov and Flair NER models on each article\n",
        "from deeppavlov import configs, build_model\n",
        "from collections import Counter\n",
        "deeppavlov_ner = build_model(configs.ner.ner_ontonotes, download=True)\n",
        "file['deeppavlov'] = ''\n",
        "\n",
        "from collections import Counter\n",
        "  \n",
        "  \n",
        "  \n",
        "  \n",
        "for index,row in file.iterrows():\n",
        "  \n",
        "  text = row['value_html']\n",
        "  \n",
        "  s2 = deeppavlov_ner([text])\n",
        "  ##########\n",
        "  temp_word_list = []\n",
        "  final_list = []\n",
        "  temp_tag_list = []\n",
        "  count = -1\n",
        "  for x in range(0,len(s2[0][0])):\n",
        "\n",
        "    if(s2[1][0][x][0] == 'B'):\n",
        "      count = 1\n",
        "      temp_tag_list.append(s2[1][0][x].strip('B-'))\n",
        "      temp_word_list.append(s2[0][0][x])\n",
        "\n",
        "    elif(s2[1][0][x][0] == 'I'):\n",
        "      count +=1\n",
        "      temp_word_list.append(s2[0][0][x])\n",
        "    elif(s2[1][0][x][0] == 'O'):\n",
        "      if(count == 1):\n",
        "        final_list.append((temp_word_list[0],temp_tag_list[0]))\n",
        "        temp_word_list = []\n",
        "        temp_tag_list = []\n",
        "        count = 0\n",
        "      elif(count > 1):\n",
        "        final_list.append((' '.join(temp_word_list),temp_tag_list[0]))\n",
        "        count = 0\n",
        "        temp_word_list = []\n",
        "        temp_tag_list = []\n",
        "      else:\n",
        "        a=9\n",
        "\n",
        "    else:\n",
        "      a=9\n",
        "\n",
        "  ###Code to find out frequency and obtain a unique list of codes in (Word,Tag,Frequency) format\n",
        "  frequency_list = Counter(i for i in final_list)\n",
        "  intermediate_list = []\n",
        "  for ele in frequency_list:\n",
        "    temp_ele = list(ele)\n",
        "    temp_ele.append(frequency_list[ele])\n",
        "    ele = tuple(temp_ele)\n",
        "    intermediate_list.append(ele)\n",
        "\n",
        "  file.at[index,'deeppavlov'] = intermediate_list\n",
        "  \n",
        "  print(\"Finished index:\"+str(index))\n",
        "\n",
        "  \n",
        "  \n",
        "  "
      ],
      "execution_count": 0,
      "outputs": []
    },
    {
      "cell_type": "code",
      "metadata": {
        "id": "Jk5iljPubGlo",
        "colab_type": "code",
        "colab": {
          "base_uri": "https://localhost:8080/",
          "height": 782
        },
        "outputId": "e8b561c2-5dea-4e11-afea-003925348659"
      },
      "source": [
        "file.at[0,'deeppavlov']"
      ],
      "execution_count": 124,
      "outputs": [
        {
          "output_type": "execute_result",
          "data": {
            "text/plain": [
              "[('The National Centre for Performing Arts', 'ORG', 1),\n",
              " ('NCPA', 'ORG', 2),\n",
              " ('Mumbai', 'GPE', 1),\n",
              " ('India', 'GPE', 5),\n",
              " ('Sahapedia', 'PERSON', 3),\n",
              " ('Quarterly Journal', 'WORK_OF_ART', 1),\n",
              " ('between September 1972', 'DATE', 1),\n",
              " ('March 1988', 'DATE', 1),\n",
              " ('South Asia', 'LOC', 1),\n",
              " ('Sahapedia ’', 'ORG', 1),\n",
              " ('Indian', 'NORP', 2),\n",
              " ('the National School of Drama', 'ORG', 1),\n",
              " ('NSD', 'ORG', 2),\n",
              " ('Andha Yug', 'WORK_OF_ART', 1),\n",
              " ('Dharamvir Bharati', 'PERSON', 1),\n",
              " ('1954', 'DATE', 1),\n",
              " ('Bharati', 'PERSON', 1),\n",
              " ('Om Shiv Puri ’', 'WORK_OF_ART', 1),\n",
              " ('today', 'DATE', 1),\n",
              " ('The Department of Art History and Aesthetics', 'ORG', 1),\n",
              " ('Maharaja Sayajirao University', 'ORG', 1),\n",
              " ('Baroda', 'GPE', 1),\n",
              " ('UGC', 'ORG', 1),\n",
              " ('Regional Documentation Center', 'ORG', 1),\n",
              " ('first University–level Photo Archives of Indian Architecture , Sculptures and Paintings',\n",
              "  'ORDINAL',\n",
              "  1),\n",
              " ('American Institute of Indian Studies Institute', 'ORG', 1),\n",
              " ('New Delhi', 'GPE', 1),\n",
              " ('the French Institute of Pondicherry', 'ORG', 1),\n",
              " ('This Regional Documentation Centre', 'ORG', 1),\n",
              " ('the 1970s', 'DATE', 2),\n",
              " ('a Documentation Officer , an Archivist , a Photographer and an Attendant',\n",
              "  'WORK_OF_ART',\n",
              "  1),\n",
              " ('Department', 'ORG', 1),\n",
              " ('Western Indian', 'NORP', 1),\n",
              " ('Gujarat', 'GPE', 1),\n",
              " ('Rajasthan', 'GPE', 1),\n",
              " ('Karnataka', 'GPE', 1),\n",
              " ('Madhya Pradesh', 'GPE', 1),\n",
              " ('Maharashtra', 'GPE', 1),\n",
              " ('Modern Indian Art', 'ORG', 1),\n",
              " ('the Department of Art History and Aesthetics', 'ORG', 1),\n",
              " ('MS University Baroda', 'ORG', 1)]"
            ]
          },
          "metadata": {
            "tags": []
          },
          "execution_count": 124
        }
      ]
    }
  ]
}